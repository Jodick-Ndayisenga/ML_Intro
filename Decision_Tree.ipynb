{
  "nbformat": 4,
  "nbformat_minor": 0,
  "metadata": {
    "colab": {
      "provenance": [],
      "authorship_tag": "ABX9TyOFA4uBY0AcZAoG7XGJpyrM",
      "include_colab_link": true
    },
    "kernelspec": {
      "name": "python3",
      "display_name": "Python 3"
    },
    "language_info": {
      "name": "python"
    }
  },
  "cells": [
    {
      "cell_type": "markdown",
      "metadata": {
        "id": "view-in-github",
        "colab_type": "text"
      },
      "source": [
        "<a href=\"https://colab.research.google.com/github/Jodick-Ndayisenga/ML_Intro/blob/main/Decision_Tree.ipynb\" target=\"_parent\"><img src=\"https://colab.research.google.com/assets/colab-badge.svg\" alt=\"Open In Colab\"/></a>"
      ]
    },
    {
      "cell_type": "code",
      "source": [
        "%matplotlib inline"
      ],
      "metadata": {
        "id": "h8Jifi565DCR"
      },
      "execution_count": 1,
      "outputs": []
    },
    {
      "cell_type": "code",
      "source": [
        "from numpy.random import random\n",
        "import numpy as np\n",
        "import matplotlib.pyplot as plt"
      ],
      "metadata": {
        "id": "XryW8kvP5D1i"
      },
      "execution_count": 10,
      "outputs": []
    },
    {
      "cell_type": "code",
      "source": [
        "N=1500\n",
        "mean1 = [6, 14]\n",
        "mean2 = [10, 6]\n",
        "mean3 = [14, 14]\n",
        "cov = [[3.5, 0], [0, 3.5]]"
      ],
      "metadata": {
        "id": "st6T-ruA5Xk8"
      },
      "execution_count": 11,
      "outputs": []
    },
    {
      "cell_type": "code",
      "source": [
        "np.random.seed(50)"
      ],
      "metadata": {
        "id": "j8hnVXa255We"
      },
      "execution_count": 12,
      "outputs": []
    },
    {
      "cell_type": "code",
      "source": [
        "X=np.random.multivariate_normal(mean1, cov, int(N/6))"
      ],
      "metadata": {
        "id": "1ArFEKnH5_Cd"
      },
      "execution_count": 13,
      "outputs": []
    },
    {
      "cell_type": "code",
      "source": [
        "X.shape"
      ],
      "metadata": {
        "colab": {
          "base_uri": "https://localhost:8080/"
        },
        "id": "HgYovEeo6Iv2",
        "outputId": "1cc44236-d587-439c-969d-04508bd9559f"
      },
      "execution_count": 14,
      "outputs": [
        {
          "output_type": "execute_result",
          "data": {
            "text/plain": [
              "(250, 2)"
            ]
          },
          "metadata": {},
          "execution_count": 14
        }
      ]
    },
    {
      "cell_type": "code",
      "source": [
        "X = np.concatenate((X, np.random.multivariate_normal(mean2, cov, int(N/6))))"
      ],
      "metadata": {
        "id": "-t1G4B256Ms9"
      },
      "execution_count": 15,
      "outputs": []
    },
    {
      "cell_type": "code",
      "source": [
        "X.shape"
      ],
      "metadata": {
        "colab": {
          "base_uri": "https://localhost:8080/"
        },
        "id": "73SvbMig6ViV",
        "outputId": "b68329eb-4da5-48eb-8e88-80e32fc20223"
      },
      "execution_count": 16,
      "outputs": [
        {
          "output_type": "execute_result",
          "data": {
            "text/plain": [
              "(500, 2)"
            ]
          },
          "metadata": {},
          "execution_count": 16
        }
      ]
    },
    {
      "cell_type": "code",
      "source": [
        "X = np.concatenate((X, np.random.multivariate_normal(mean3, cov, int(N/6))))"
      ],
      "metadata": {
        "id": "A30-9VwX67bU"
      },
      "execution_count": 17,
      "outputs": []
    },
    {
      "cell_type": "code",
      "source": [
        "X.shape"
      ],
      "metadata": {
        "colab": {
          "base_uri": "https://localhost:8080/"
        },
        "id": "WeeOOR_f7LqG",
        "outputId": "457dcfa7-4fca-4ca1-9216-cc6d0e71708e"
      },
      "execution_count": 18,
      "outputs": [
        {
          "output_type": "execute_result",
          "data": {
            "text/plain": [
              "(750, 2)"
            ]
          },
          "metadata": {},
          "execution_count": 18
        }
      ]
    },
    {
      "cell_type": "code",
      "source": [
        "X = np.concatenate((X, 20*np.random.rand(int(N/2), 2)))"
      ],
      "metadata": {
        "id": "OJPGXuGX6aSD"
      },
      "execution_count": 19,
      "outputs": []
    },
    {
      "cell_type": "code",
      "source": [
        "X.shape"
      ],
      "metadata": {
        "colab": {
          "base_uri": "https://localhost:8080/"
        },
        "id": "xdEHr0dr8l1e",
        "outputId": "bf82a43f-6f43-480c-ae1b-91114b0e3739"
      },
      "execution_count": 20,
      "outputs": [
        {
          "output_type": "execute_result",
          "data": {
            "text/plain": [
              "(1500, 2)"
            ]
          },
          "metadata": {},
          "execution_count": 20
        }
      ]
    },
    {
      "cell_type": "code",
      "source": [
        "y= np.concatenate((np.ones(int(N/2)), np.zeros(int(N/2))))"
      ],
      "metadata": {
        "id": "8JJGewaA7Oub"
      },
      "execution_count": 21,
      "outputs": []
    },
    {
      "cell_type": "code",
      "source": [
        "y"
      ],
      "metadata": {
        "colab": {
          "base_uri": "https://localhost:8080/"
        },
        "id": "9L3fTAso8o7q",
        "outputId": "ee8e803b-251f-4bd6-f2b9-f2adc396fbda"
      },
      "execution_count": 22,
      "outputs": [
        {
          "output_type": "execute_result",
          "data": {
            "text/plain": [
              "array([1., 1., 1., ..., 0., 0., 0.])"
            ]
          },
          "metadata": {},
          "execution_count": 22
        }
      ]
    },
    {
      "cell_type": "code",
      "source": [
        "plt.plot(X[:int(N/2), 0], X[:int(N/2), 1], '+r', X[int(N/2):, 0], X[int(N/2):, 1], 'k.', ms=4)"
      ],
      "metadata": {
        "colab": {
          "base_uri": "https://localhost:8080/",
          "height": 465
        },
        "id": "CSWXbBm77dDL",
        "outputId": "32620b36-237d-48fc-d2da-fd59fb7d1c44"
      },
      "execution_count": 23,
      "outputs": [
        {
          "output_type": "execute_result",
          "data": {
            "text/plain": [
              "[<matplotlib.lines.Line2D at 0x7b22c980dfc0>,\n",
              " <matplotlib.lines.Line2D at 0x7b22c980e050>]"
            ]
          },
          "metadata": {},
          "execution_count": 23
        },
        {
          "output_type": "display_data",
          "data": {
            "text/plain": [
              "<Figure size 640x480 with 1 Axes>"
            ],
            "image/png": "[encoded data removed]"
          },
          "metadata": {}
        }
      ]
    },
    {
      "cell_type": "code",
      "source": [
        "maxDepth = [2,3,4,5,6,7,8,9,10,15,20,25,30,35,40,45, 50]"
      ],
      "metadata": {
        "id": "xSs_dXUP9dch"
      },
      "execution_count": 29,
      "outputs": []
    },
    {
      "cell_type": "code",
      "source": [
        "len(maxDepth)"
      ],
      "metadata": {
        "colab": {
          "base_uri": "https://localhost:8080/"
        },
        "id": "IIG83NDW-S73",
        "outputId": "71fb15b9-4929-471a-a287-c941398024eb"
      },
      "execution_count": 30,
      "outputs": [
        {
          "output_type": "execute_result",
          "data": {
            "text/plain": [
              "17"
            ]
          },
          "metadata": {},
          "execution_count": 30
        }
      ]
    },
    {
      "cell_type": "code",
      "source": [
        "trainAcc = np.zeros(len(maxDepth))\n",
        "testAcc = np.zeros(len(maxDepth))"
      ],
      "metadata": {
        "id": "JVDYPU5c-BVZ"
      },
      "execution_count": 31,
      "outputs": []
    },
    {
      "cell_type": "code",
      "source": [
        "trainAcc"
      ],
      "metadata": {
        "colab": {
          "base_uri": "https://localhost:8080/"
        },
        "id": "YbjxFcEE-KuI",
        "outputId": "837c1720-46a7-4e37-850d-8bfd3aa3ad93"
      },
      "execution_count": 32,
      "outputs": [
        {
          "output_type": "execute_result",
          "data": {
            "text/plain": [
              "array([0., 0., 0., 0., 0., 0., 0., 0., 0., 0., 0., 0., 0., 0., 0., 0., 0.])"
            ]
          },
          "metadata": {},
          "execution_count": 32
        }
      ]
    },
    {
      "cell_type": "code",
      "source": [
        "testAcc"
      ],
      "metadata": {
        "colab": {
          "base_uri": "https://localhost:8080/"
        },
        "id": "nS7UZJEP-ahU",
        "outputId": "4dfb5515-1475-41bc-ac51-2cb08a1a7adc"
      },
      "execution_count": 33,
      "outputs": [
        {
          "output_type": "execute_result",
          "data": {
            "text/plain": [
              "array([0., 0., 0., 0., 0., 0., 0., 0., 0., 0., 0., 0., 0., 0., 0., 0., 0.])"
            ]
          },
          "metadata": {},
          "execution_count": 33
        }
      ]
    },
    {
      "cell_type": "code",
      "source": [
        "from sklearn.model_selection import train_test_split"
      ],
      "metadata": {
        "id": "jvXA9llV-lrr"
      },
      "execution_count": 39,
      "outputs": []
    },
    {
      "cell_type": "code",
      "source": [
        "X_train, X_test, y_train, y_test = train_test_split(X, y, test_size=0.2, random_state=42)"
      ],
      "metadata": {
        "id": "vKQ_rtOA_FGN"
      },
      "execution_count": 41,
      "outputs": []
    },
    {
      "cell_type": "code",
      "source": [
        "from sklearn import tree"
      ],
      "metadata": {
        "id": "A3bO_0Rl_GCu"
      },
      "execution_count": 42,
      "outputs": []
    },
    {
      "cell_type": "code",
      "source": [
        "from sklearn.metrics import accuracy_score"
      ],
      "metadata": {
        "id": "cvqvc-IwAKyJ"
      },
      "execution_count": 43,
      "outputs": []
    },
    {
      "cell_type": "code",
      "source": [
        "index = 0\n",
        "for depth in maxDepth:\n",
        "    clf = tree.DecisionTreeClassifier(max_depth=depth)\n",
        "    clf = clf.fit(X_train, y_train)\n",
        "    y_predTrain = clf.predict(X_train)\n",
        "    y_predTest = clf.predict(X_test)\n",
        "    trainAcc[index] = accuracy_score(y_train, y_predTrain)\n",
        "    testAcc[index] = accuracy_score(y_test, y_predTest)\n",
        "    index += 1"
      ],
      "metadata": {
        "id": "LuDmYCqD_Jng"
      },
      "execution_count": 44,
      "outputs": []
    },
    {
      "cell_type": "code",
      "source": [
        "trainAcc"
      ],
      "metadata": {
        "colab": {
          "base_uri": "https://localhost:8080/"
        },
        "id": "r09AZtQEAUWw",
        "outputId": "f638ced3-05da-45ba-e665-9a623820c4b9"
      },
      "execution_count": 45,
      "outputs": [
        {
          "output_type": "execute_result",
          "data": {
            "text/plain": [
              "array([0.64416667, 0.68583333, 0.72416667, 0.72666667, 0.755     ,\n",
              "       0.78      , 0.79      , 0.81583333, 0.83416667, 0.91166667,\n",
              "       0.96833333, 0.99416667, 1.        , 1.        , 1.        ,\n",
              "       1.        , 1.        ])"
            ]
          },
          "metadata": {},
          "execution_count": 45
        }
      ]
    },
    {
      "cell_type": "code",
      "source": [
        "testAcc"
      ],
      "metadata": {
        "colab": {
          "base_uri": "https://localhost:8080/"
        },
        "id": "mNTLNvr6AXSX",
        "outputId": "f2c841ae-915c-475d-841e-5df36e5f5706"
      },
      "execution_count": 46,
      "outputs": [
        {
          "output_type": "execute_result",
          "data": {
            "text/plain": [
              "array([0.59666667, 0.65      , 0.69666667, 0.69666667, 0.72333333,\n",
              "       0.72      , 0.72      , 0.71333333, 0.71333333, 0.72666667,\n",
              "       0.71      , 0.68      , 0.67666667, 0.67666667, 0.67666667,\n",
              "       0.68666667, 0.68      ])"
            ]
          },
          "metadata": {},
          "execution_count": 46
        }
      ]
    },
    {
      "cell_type": "code",
      "source": [
        "plt.plot(maxDepth, trainAcc, 'ro-', maxDepth, testAcc, 'bv--')\n",
        "plt.legend(['Training Accurance', 'Test Accuracy'])\n",
        "plt.xlabel('Max Depth')\n",
        "plt.ylabel('Accuracy')"
      ],
      "metadata": {
        "colab": {
          "base_uri": "https://localhost:8080/",
          "height": 466
        },
        "id": "FzPQT7ncAZ1-",
        "outputId": "46f666d4-595d-46f5-b4e8-7f086407b36d"
      },
      "execution_count": 48,
      "outputs": [
        {
          "output_type": "execute_result",
          "data": {
            "text/plain": [
              "Text(0, 0.5, 'Accuracy')"
            ]
          },
          "metadata": {},
          "execution_count": 48
        },
        {
          "output_type": "display_data",
          "data": {
            "text/plain": [
              "<Figure size 640x480 with 1 Axes>"
            ],
            "image/png": "[encoded data removed]"
          },
          "metadata": {}
        }
      ]
    },
    {
      "cell_type": "code",
      "source": [
        "#Logistic Regression\n",
        "#Decision Tree"
      ],
      "metadata": {
        "id": "qO2nJoW_GFxD"
      },
      "execution_count": null,
      "outputs": []
    }
  ]
}