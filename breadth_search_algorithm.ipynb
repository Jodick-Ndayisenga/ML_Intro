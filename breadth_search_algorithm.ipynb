{
  "nbformat": 4,
  "nbformat_minor": 0,
  "metadata": {
    "colab": {
      "provenance": [],
      "authorship_tag": "ABX9TyPyYbvsUQ8B6J4rrk34lIt5",
      "include_colab_link": true
    },
    "kernelspec": {
      "name": "python3",
      "display_name": "Python 3"
    },
    "language_info": {
      "name": "python"
    }
  },
  "cells": [
    {
      "cell_type": "markdown",
      "metadata": {
        "id": "view-in-github",
        "colab_type": "text"
      },
      "source": [
        "<a href=\"https://colab.research.google.com/github/Jodick-Ndayisenga/ML_Intro/blob/main/breadth_search_algorithm.ipynb\" target=\"_parent\"><img src=\"https://colab.research.google.com/assets/colab-badge.svg\" alt=\"Open In Colab\"/></a>"
      ]
    },
    {
      "cell_type": "markdown",
      "source": [
        "# Breadth First Search in Python"
      ],
      "metadata": {
        "id": "qZF8BpQCQBfU"
      }
    },
    {
      "cell_type": "markdown",
      "source": [
        "Breadth First Search (BFS) is a fundamental algorithm used for traversing or searching tree or graph data structures. It explores all the neighbor nodes at the present depth before moving on to the nodes at the next depth level. In python, it can traverse either data in a form of list or dictionary. Here in this work, we are going to use dictionaries"
      ],
      "metadata": {
        "id": "nHTHWhwoQsTI"
      }
    },
    {
      "cell_type": "code",
      "source": [
        "graph = {\n",
        "    '1': ['2', '3'],\n",
        "    '2': ['4', '5'],\n",
        "    '3': ['6', '7'],\n",
        "    '4': ['8', '9'],\n",
        "    '5': ['10', '11'],\n",
        "    '6': ['12', '13'],\n",
        "    '7': ['14', '15'],\n",
        "    '8': ['16', '17'],\n",
        "    '9': ['18', '19'],\n",
        "    '10': ['20', '21'],\n",
        "    '11': ['22', '23'],\n",
        "    '12': [],\n",
        "    '13': ['24'],\n",
        "    '14': [],\n",
        "    '15': ['25'],\n",
        "    '16': [],\n",
        "    '17': ['26'],\n",
        "    '18': [],\n",
        "    '19': [],\n",
        "    '20': [],\n",
        "    '21': [],\n",
        "    '22': [],\n",
        "    '23': [],\n",
        "    '24': [],\n",
        "    '25': [],\n",
        "    '26': []\n",
        "}"
      ],
      "metadata": {
        "id": "sbmKi7VaYL9H"
      },
      "execution_count": null,
      "outputs": []
    },
    {
      "cell_type": "markdown",
      "source": [
        "Above is data that we suppose are nodes and vertexes to be visited. In our next move, we will create two empty lists. This is very important because if we don't pay much attention, it might result in infinite loop especially when it is repeating some nodes that the agent has already visited. To avoid that, we have to initialize two lists, one for already visited nodes and another to put them in a queue. Here are implementing the concept of queues which is FIRST COME FIRST SERVED ( FIRST COME FIRST OUT )"
      ],
      "metadata": {
        "id": "yN_RfjyFRdFe"
      }
    },
    {
      "cell_type": "markdown",
      "source": [
        "Next is our actual Agent. One thing to note is that it has to always have a  starting point which conventionally call head. In our case, our agent has to to have 3 major information. It has to have the visited nodes so that it doesn't repeat itself. This can be referred to as state, to also obviously has to have the graph in which it is finding its way to the goal. Finally, it has to have the current node to visit."
      ],
      "metadata": {
        "id": "uKtFqKwRSigR"
      }
    },
    {
      "cell_type": "markdown",
      "source": [
        "That was our agent and now we need to pass the visited, state, in this case is empty, meaning it has to start from start. and the first node is 5"
      ],
      "metadata": {
        "id": "Pga4oT9CShbJ"
      }
    },
    {
      "cell_type": "code",
      "source": [
        "from collections import deque\n",
        "# HERE WE ARE IMPORTING THE deque library"
      ],
      "metadata": {
        "id": "qWJPggWYSVCh"
      },
      "execution_count": null,
      "outputs": []
    },
    {
      "cell_type": "markdown",
      "source": [
        "While lists and dictrionary methods can make it to pop or append elements to the list / dictionary, this library deque is more faster when it comes to popping and appending data on the list."
      ],
      "metadata": {
        "id": "9GPLw4rcWspd"
      }
    },
    {
      "cell_type": "code",
      "source": [
        "# this is the class that is supposed to be the agent that will traverse the nodes\n",
        "\n",
        "class Agent:\n",
        "  #we are giving the name of Agent\n",
        "  # by the time we are instantiating the Agent , we provide the graph so that it know what it is dealing with\n",
        "    def __init__(self, graph_dict):\n",
        "        self.graph = graph_dict\n",
        "\n",
        "    def bfs(self, start):\n",
        "      #this is the method to the traverse, it takes two argumens self and start but self is passed to it when it is called, we only pass start and it does the job\n",
        "        visited = set()\n",
        "        #you can chose to store the visited in sets or lists\n",
        "        #and what we passed as head is the first to be in queue\n",
        "        queue = deque([start])\n",
        "\n",
        "        while queue:\n",
        "          # This while look is always running as long there are vertex in the queue\n",
        "            vertex = queue.popleft()\n",
        "            #If there are vertex in the queue, pop out the one at the front\n",
        "            if vertex not in visited:\n",
        "              #Although we are poping the one at the fron, it might have some linked vertext, thus we have the tendancy to visit them also\n",
        "                print(vertex + \" => \", end=' ')\n",
        "                #this is just to display the element we have just visited\n",
        "                visited.add(vertex)\n",
        "                #Added the visited element to the visited set\n",
        "                queue.extend(child for child in self.graph[vertex] if child not in visited)\n",
        "                #In case the element we visited has directly linked vertex, we then deploy them and add the to the que"
      ],
      "metadata": {
        "id": "0WIO4SLHWqlA"
      },
      "execution_count": null,
      "outputs": []
    },
    {
      "cell_type": "code",
      "source": [
        "#HERE WE ARE INSTANCIATING THE FIRST INSTANCE ( AGENT 1 UNDER THE NAME OF agent) and pass the graph, our data initialized at the top\n",
        "agent = Agent(graph)\n",
        "print(\"Breadth First Traversal starting from vertex '1':\")\n",
        "#just printing the header\n",
        "agent.bfs('1')\n",
        "#Here we are passing the agent where it should start, here it starts at the begining, 1"
      ],
      "metadata": {
        "colab": {
          "base_uri": "https://localhost:8080/"
        },
        "id": "P4kh_y-zXgAI",
        "outputId": "124b8fce-59a9-41d3-a560-4afa6ca6deab"
      },
      "execution_count": null,
      "outputs": [
        {
          "output_type": "stream",
          "name": "stdout",
          "text": [
            "Breadth First Traversal starting from vertex '1':\n",
            "1 =>  2 =>  3 =>  4 =>  5 =>  6 =>  7 =>  8 =>  9 =>  10 =>  11 =>  12 =>  13 =>  14 =>  15 =>  16 =>  17 =>  18 =>  19 =>  20 =>  21 =>  22 =>  23 =>  24 =>  25 =>  26 =>  "
          ]
        }
      ]
    },
    {
      "cell_type": "code",
      "source": [
        "agent.bfs('4')"
      ],
      "metadata": {
        "colab": {
          "base_uri": "https://localhost:8080/"
        },
        "id": "FHqcXoyacjOm",
        "outputId": "59471728-bae2-4eb6-aa9a-de81a8ce3adb"
      },
      "execution_count": null,
      "outputs": [
        {
          "output_type": "stream",
          "name": "stdout",
          "text": [
            "4 =>  8 =>  9 =>  16 =>  17 =>  18 =>  19 =>  26 =>  "
          ]
        }
      ]
    },
    {
      "cell_type": "markdown",
      "source": [
        "You can Literally tell your agent to start from anywhere"
      ],
      "metadata": {
        "id": "7W99rFexc0tg"
      }
    }
  ]
}